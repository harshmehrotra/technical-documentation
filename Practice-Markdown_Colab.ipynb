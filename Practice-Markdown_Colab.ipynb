{
  "cells": [
    {
      "cell_type": "markdown",
      "metadata": {
        "id": "view-in-github",
        "colab_type": "text"
      },
      "source": [
        "<a href=\"https://colab.research.google.com/github/harshmehrotra/technical-documentation/blob/main/Practice-Markdown_Colab.ipynb\" target=\"_parent\"><img src=\"https://colab.research.google.com/assets/colab-badge.svg\" alt=\"Open In Colab\"/></a>"
      ]
    },
    {
      "cell_type": "markdown",
      "metadata": {
        "id": "AugWzQ3kK_LX"
      },
      "source": [
        "## Practice Markdown"
      ]
    },
    {
      "cell_type": "markdown",
      "metadata": {
        "id": "ZN5wfmuuK_LZ"
      },
      "source": [
        "This notebook lets you experiment with producing repeatable technical documentation.  Use this notebook to do the following actions:\n",
        "\n",
        "* Create a code cell and print a Python Hello World statement:  `print(\"hello world\")`\n",
        "* Create a Markdown Cell and add a Title using `#` and then a statement using plain text.  You can looks at the source code for this cell to get an idea of how to use Markdown.\n",
        "* Take some ideas from the [Master Markdown Github Guide](https://guides.github.com/features/mastering-markdown/) and implement them here.\n",
        "* Download this notebook as a `.ipynb` file and check into a Github Project.  You can [see an example here](https://github.com/noahgift/duke-coursera-ccf-lab1/blob/main/Practice-Markdown.ipynb).\n",
        "* Open your notebook in Google Colab and save it into the same Github Project.  You can [see an example here](https://github.com/noahgift/duke-coursera-ccf-lab1/blob/main/Practice_Markdown_with_colab.ipynb).\n"
      ]
    },
    {
      "cell_type": "code",
      "execution_count": null,
      "metadata": {
        "id": "XTw8KeiYK_La",
        "outputId": "aeaa7b7d-6720-43ce-9a1a-edeefe186192"
      },
      "outputs": [
        {
          "name": "stdout",
          "output_type": "stream",
          "text": [
            "hello world\n"
          ]
        }
      ],
      "source": [
        "print(\"hello world\")"
      ]
    },
    {
      "cell_type": "markdown",
      "metadata": {
        "id": "rh611gd4K_Ld"
      },
      "source": [
        "# This is the Title\n",
        "This is plain text\n",
        "## Second header\n",
        "### Third header\n",
        "\n",
        "_Italics_\n",
        "\n",
        "*Italics*\n",
        "\n",
        "Numbered list:\n",
        "1. Number 1\n",
        "2. Number 2\n",
        "3. Number 3\n",
        "\n",
        "And these are the bullets:\n",
        "* dot 1\n",
        "+ dot 2\n",
        "- dot 3\n",
        "\n",
        "Task list:\n",
        "- [ ] to do 1\n",
        "- [ ] to do 2\n",
        "- [x] to do 3\n",
        "\n",
        "and here comes a [link](http://www.google.com)\n",
        "and an image:\n",
        "![image](https://media.licdn.com/dms/image/C5612AQHr-h5PjsFN0A/article-cover_image-shrink_720_1280/0/1583419298760?e=1712793600&v=beta&t=aX9neeqZZBY4B9p0fnMNEqRh6AIMsRIMOAu6EEH2O5w)\n",
        "\n"
      ]
    },
    {
      "cell_type": "markdown",
      "source": [
        "And this text has been added in Google Colab.\n",
        "😀\n",
        "\n",
        "**The End!**"
      ],
      "metadata": {
        "id": "T6dGTHbgLDMv"
      }
    }
  ],
  "metadata": {
    "kernelspec": {
      "display_name": "Python 3",
      "language": "python",
      "name": "python3"
    },
    "language_info": {
      "codemirror_mode": {
        "name": "ipython",
        "version": 3
      },
      "file_extension": ".py",
      "mimetype": "text/x-python",
      "name": "python",
      "nbconvert_exporter": "python",
      "pygments_lexer": "ipython3",
      "version": "3.7.6"
    },
    "colab": {
      "provenance": [],
      "include_colab_link": true
    }
  },
  "nbformat": 4,
  "nbformat_minor": 0
}